{
 "cells": [
  {
   "cell_type": "code",
   "id": "initial_id",
   "metadata": {
    "collapsed": true,
    "ExecuteTime": {
     "end_time": "2024-08-12T18:11:45.821320Z",
     "start_time": "2024-08-12T18:11:40.951229Z"
    }
   },
   "source": [
    "import torch\n",
    "import torch.nn as nn\n",
    "import torch.nn.functional as F\n",
    "import torch.optim as optim\n",
    "from torchvision import datasets, transforms\n",
    "import matplotlib.pyplot as plt"
   ],
   "outputs": [],
   "execution_count": 1
  },
  {
   "metadata": {
    "ExecuteTime": {
     "end_time": "2024-08-12T18:12:14.484849Z",
     "start_time": "2024-08-12T18:12:14.479934Z"
    }
   },
   "cell_type": "code",
   "source": [
    "transform = transforms.Compose([transforms.ToTensor(),\n",
    "                                transforms.Normalize((0.5,), (0.5,))])"
   ],
   "id": "5c673c6610b5fcc8",
   "outputs": [],
   "execution_count": 2
  },
  {
   "metadata": {
    "ExecuteTime": {
     "end_time": "2024-08-12T18:12:28.155720Z",
     "start_time": "2024-08-12T18:12:28.088304Z"
    }
   },
   "cell_type": "code",
   "source": [
    "trainset = datasets.MNIST(root='./data', train=True, download=True, transform=transform)\n",
    "testset = datasets.MNIST(root='./data', train=False, download=True, transform=transform)\n",
    "\n",
    "trainloader = torch.utils.data.DataLoader(trainset, batch_size=64, shuffle=True)\n",
    "testloader = torch.utils.data.DataLoader(testset, batch_size=64, shuffle=False)"
   ],
   "id": "d761bc23174adda6",
   "outputs": [],
   "execution_count": 3
  },
  {
   "metadata": {
    "ExecuteTime": {
     "end_time": "2024-08-12T18:12:53.261441Z",
     "start_time": "2024-08-12T18:12:53.255921Z"
    }
   },
   "cell_type": "code",
   "source": [
    "class Net(nn.Module):\n",
    "    def __init__(self):\n",
    "        super(Net, self).__init__()\n",
    "        self.fc1 = nn.Linear(28 * 28, 128)  \n",
    "        self.fc2 = nn.Linear(128, 64)  \n",
    "        self.fc3 = nn.Linear(64, 10)  \n",
    "\n",
    "    def forward(self, x):\n",
    "        x = x.view(-1, 28 * 28)  \n",
    "        x = F.relu(self.fc1(x))  \n",
    "        x = F.relu(self.fc2(x))\n",
    "        x = self.fc3(x)  \n",
    "        return x"
   ],
   "id": "133ffc991dacdb98",
   "outputs": [],
   "execution_count": 4
  },
  {
   "metadata": {
    "ExecuteTime": {
     "end_time": "2024-08-12T18:13:06.340122Z",
     "start_time": "2024-08-12T18:13:06.333638Z"
    }
   },
   "cell_type": "code",
   "source": [
    "model = Net()\n",
    "criterion = nn.CrossEntropyLoss()  \n",
    "optimizer = optim.Adam(model.parameters(), lr=0.001) "
   ],
   "id": "1a7b1d2b5df99888",
   "outputs": [],
   "execution_count": 5
  },
  {
   "metadata": {
    "ExecuteTime": {
     "end_time": "2024-08-12T18:14:42.771263Z",
     "start_time": "2024-08-12T18:13:25.623324Z"
    }
   },
   "cell_type": "code",
   "source": [
    "epochs = 5\n",
    "for epoch in range(epochs):\n",
    "    running_loss = 0.0\n",
    "    for images, labels in trainloader:\n",
    "        optimizer.zero_grad()  \n",
    "\n",
    "        outputs = model(images) \n",
    "        loss = criterion(outputs, labels)  \n",
    "        loss.backward()  \n",
    "        optimizer.step()  \n",
    "\n",
    "        running_loss += loss.item()\n",
    "\n",
    "    print(f\"Epoch {epoch + 1}/{epochs} - Loss: {running_loss / len(trainloader)}\")"
   ],
   "id": "a5f0f9043bb5b525",
   "outputs": [
    {
     "name": "stdout",
     "output_type": "stream",
     "text": [
      "Epoch 1/5 - Loss: 0.4090728844120813\n",
      "Epoch 2/5 - Loss: 0.20170296172597516\n",
      "Epoch 3/5 - Loss: 0.14633330386449725\n",
      "Epoch 4/5 - Loss: 0.11770403486336949\n",
      "Epoch 5/5 - Loss: 0.10132652508722408\n"
     ]
    }
   ],
   "execution_count": 6
  },
  {
   "metadata": {
    "ExecuteTime": {
     "end_time": "2024-08-12T18:15:23.093008Z",
     "start_time": "2024-08-12T18:15:21.070171Z"
    }
   },
   "cell_type": "code",
   "source": [
    "correct = 0\n",
    "total = 0\n",
    "\n",
    "with torch.no_grad():  \n",
    "    for images, labels in testloader:\n",
    "        outputs = model(images)\n",
    "        _, predicted = torch.max(outputs.data, 1)\n",
    "        total += labels.size(0)\n",
    "        correct += (predicted == labels).sum().item()\n",
    "\n",
    "print(f'\\nTest accuracy: {100 * correct / total}%')"
   ],
   "id": "3cda4c3da4bf755b",
   "outputs": [
    {
     "name": "stdout",
     "output_type": "stream",
     "text": [
      "\n",
      "Test accuracy: 97.09%\n"
     ]
    }
   ],
   "execution_count": 8
  },
  {
   "metadata": {
    "ExecuteTime": {
     "end_time": "2024-08-12T18:17:09.510103Z",
     "start_time": "2024-08-12T18:17:09.357924Z"
    }
   },
   "cell_type": "code",
   "source": [
    "dataiter = iter(testloader)\n",
    "images, labels = next(dataiter)\n",
    "outputs = model(images)\n",
    "_, predicted = torch.max(outputs, 1)\n",
    "\n",
    "plt.imshow(images[0].view(28, 28).numpy().squeeze(), cmap='gray')\n",
    "plt.title(f\"Predicted label: {predicted[0].item()}\")\n",
    "plt.show()"
   ],
   "id": "a1ef9e180422f831",
   "outputs": [
    {
     "data": {
      "text/plain": [
       "<Figure size 640x480 with 1 Axes>"
      ],
      "image/png": "[encoded data removed]"
     },
     "metadata": {},
     "output_type": "display_data"
    }
   ],
   "execution_count": 16
  }
 ],
 "metadata": {
  "kernelspec": {
   "display_name": "Python 3",
   "language": "python",
   "name": "python3"
  },
  "language_info": {
   "codemirror_mode": {
    "name": "ipython",
    "version": 2
   },
   "file_extension": ".py",
   "mimetype": "text/x-python",
   "name": "python",
   "nbconvert_exporter": "python",
   "pygments_lexer": "ipython2",
   "version": "2.7.6"
  }
 },
 "nbformat": 4,
 "nbformat_minor": 5
}
